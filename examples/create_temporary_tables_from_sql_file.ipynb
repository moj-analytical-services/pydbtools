{
 "cells": [
  {
   "cell_type": "markdown",
   "id": "green-symphony",
   "metadata": {},
   "source": [
    "# Create Temporary Tables Using SQL Files\n",
    "\n",
    "This tutorial demonstrates how to create temporary tables in athena using `pydbtools.read_sql_queries`. This is an amended version of [create_temporary_version.ipynb](create_temporary_version.ipynb)."
   ]
  },
  {
   "cell_type": "markdown",
   "id": "provincial-train",
   "metadata": {},
   "source": [
    "## Setup\n",
    "\n",
    "Just run this script to create the source database so we can use it for our example."
   ]
  },
  {
   "cell_type": "code",
   "execution_count": null,
   "id": "responsible-april",
   "metadata": {},
   "outputs": [],
   "source": [
    "import os\n",
    "import pandas as pd\n",
    "import awswrangler as wr\n",
    "import pydbtools as pydb"
   ]
  },
  {
   "cell_type": "code",
   "execution_count": null,
   "id": "dying-stock",
   "metadata": {},
   "outputs": [],
   "source": [
    "# setup your own testing area (set foldername = GH username)\n",
    "foldername = \"mratford\"  # GH username\n",
    "foldername = foldername.lower().replace(\"-\", \"_\")"
   ]
  },
  {
   "cell_type": "code",
   "execution_count": null,
   "id": "chemical-maple",
   "metadata": {},
   "outputs": [],
   "source": [
    "bucketname = \"alpha-everyone\"\n",
    "s3_base_path = f\"s3://{bucketname}/{foldername}/\"\n",
    "\n",
    "db_name = f\"aws_example_{foldername}\"\n",
    "source_db_base_path = f\"s3://{bucketname}/{foldername}/source_db/\"\n",
    "\n",
    "pydb.delete_database_and_data(db_name)\n",
    "\n",
    "# Setup source database\n",
    "# Create the database\n",
    "pydb.create_database(db_name)\n",
    "\n",
    "# Iterate through the tables in data/ and write them to our db using awswrangler\n",
    "for table_name in [\"department\", \"employees\", \"sales\"]:\n",
    "    table_path = pydb.s3_path_join(source_db_base_path, f\"{table_name}/\")\n",
    "    pydb.file_to_table(\n",
    "        path=f\"data/{table_name}.csv\",\n",
    "        database=db_name,\n",
    "        table=table_name,\n",
    "        location=table_path,\n",
    "    )"
   ]
  },
  {
   "cell_type": "markdown",
   "id": "blank-processing",
   "metadata": {},
   "source": [
    "## Task\n",
    "\n",
    "We are going to create a table that shows total sales per employee using all 3 tables."
   ]
  },
  {
   "cell_type": "code",
   "execution_count": null,
   "id": "included-divide",
   "metadata": {},
   "outputs": [],
   "source": [
    "pydb.read_sql_query(f\"SELECT * FROM {db_name}.employees LIMIT 5\", ctas_approach=False)"
   ]
  },
  {
   "cell_type": "code",
   "execution_count": null,
   "id": "opening-professional",
   "metadata": {},
   "outputs": [],
   "source": [
    "pydb.read_sql_query(f\"SELECT * FROM {db_name}.department LIMIT 5\", ctas_approach=False)"
   ]
  },
  {
   "cell_type": "code",
   "execution_count": null,
   "id": "sought-northern",
   "metadata": {},
   "outputs": [],
   "source": [
    "pydb.read_sql_query(f\"SELECT * FROM {db_name}.sales LIMIT 5\", ctas_approach=False)"
   ]
  },
  {
   "cell_type": "markdown",
   "id": "future-treaty",
   "metadata": {},
   "source": [
    "pydbtools has `read_sql_queries` and `read_sql_queries` functions that allow you to create temporary tables within SQL which you can refer to in a `__temp__` database.\n",
    "\n",
    "**First create a total_sales table:**"
   ]
  },
  {
   "cell_type": "code",
   "execution_count": null,
   "id": "asian-stocks",
   "metadata": {},
   "outputs": [],
   "source": [
    "sql = f\"\"\"\n",
    "CREATE TEMP TABLE total_sales AS\n",
    "SELECT employee_id, sum(sales) as total_sales\n",
    "FROM {db_name}.sales\n",
    "GROUP BY employee_id;\n",
    "\"\"\"\n",
    "print(sql)"
   ]
  },
  {
   "cell_type": "markdown",
   "id": "sublime-armor",
   "metadata": {},
   "source": [
    "**Then create a table of employee names from the sales department:**"
   ]
  },
  {
   "cell_type": "code",
   "execution_count": null,
   "id": "younger-miracle",
   "metadata": {},
   "outputs": [],
   "source": [
    "sql += f\"\"\"\n",
    "CREATE TEMP TABLE sales_employees AS\n",
    "SELECT e.employee_id, e.forename, e.surname, d.department_name\n",
    "FROM {db_name}.employees AS e\n",
    "LEFT JOIN {db_name}.department AS d\n",
    "ON e.department_id = d.department_id\n",
    "WHERE e.department_id = 1;\n",
    "\"\"\"\n",
    "print(sql)"
   ]
  },
  {
   "cell_type": "markdown",
   "id": "experimental-market",
   "metadata": {},
   "source": [
    "**Finally return our final tables**\n",
    "\n",
    "Note that more than one select statement can be used so the function returns an iterator yielding the results of each select."
   ]
  },
  {
   "cell_type": "code",
   "execution_count": null,
   "id": "about-palestinian",
   "metadata": {},
   "outputs": [],
   "source": [
    "sql += f\"\"\"\n",
    "SELECT se.*, ts.total_sales\n",
    "FROM __temp__.sales_employees AS se\n",
    "INNER JOIN __temp__.total_sales AS ts\n",
    "ON se.employee_id = ts.employee_id;\n",
    "\"\"\"\n",
    "print(sql)"
   ]
  },
  {
   "cell_type": "code",
   "execution_count": null,
   "id": "d1eb721f-d627-4b00-8617-618a44ae8d69",
   "metadata": {},
   "outputs": [],
   "source": [
    "total_sales = pydb.read_sql_queries(sql)"
   ]
  },
  {
   "cell_type": "code",
   "execution_count": null,
   "id": "6387d360-a7bf-477b-9663-3a5431dfa507",
   "metadata": {},
   "outputs": [],
   "source": [
    "total_sales"
   ]
  },
  {
   "cell_type": "markdown",
   "id": "edfe111e-79f6-439f-a1d2-369da576439d",
   "metadata": {},
   "source": [
    "The `read_sql_queries_gen` function allows you to use more than `SELECT` statement, returning an iterator of dataframes."
   ]
  },
  {
   "cell_type": "code",
   "execution_count": null,
   "id": "38684f07-0f13-4291-9855-30661056b3f1",
   "metadata": {},
   "outputs": [],
   "source": [
    "sql += f\"\"\"\n",
    "SELECT forename, surname, sum(s.sales) as q1_sales\n",
    "FROM __temp__.sales_employees AS se\n",
    "LEFT JOIN {db_name}.sales AS s\n",
    "ON se.employee_id = s.employee_id\n",
    "GROUP BY forename, surname;\n",
    "\"\"\"\n",
    "print(sql)"
   ]
  },
  {
   "cell_type": "code",
   "execution_count": null,
   "id": "d1c93cee-521f-4853-b942-c7cb949b843b",
   "metadata": {},
   "outputs": [],
   "source": [
    "total_sales, q1_sales = tuple(pydb.read_sql_queries_gen(sql))\n",
    "q1_sales"
   ]
  },
  {
   "cell_type": "code",
   "execution_count": null,
   "id": "secure-aviation",
   "metadata": {},
   "outputs": [],
   "source": [
    "### Clean up\n",
    "\n",
    "pydb.delete_database_and_data(db_name)"
   ]
  },
  {
   "cell_type": "code",
   "execution_count": null,
   "id": "southern-sunglasses",
   "metadata": {},
   "outputs": [],
   "source": []
  }
 ],
 "metadata": {
  "kernelspec": {
   "display_name": "pydbtools",
   "language": "python",
   "name": "pydbtools"
  },
  "language_info": {
   "codemirror_mode": {
    "name": "ipython",
    "version": 3
   },
   "file_extension": ".py",
   "mimetype": "text/x-python",
   "name": "python",
   "nbconvert_exporter": "python",
   "pygments_lexer": "ipython3",
   "version": "3.9.6"
  }
 },
 "nbformat": 4,
 "nbformat_minor": 5
}
