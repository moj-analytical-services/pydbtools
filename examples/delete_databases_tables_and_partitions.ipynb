{
 "cells": [
  {
   "cell_type": "markdown",
   "id": "4c6d5ff7-98fd-47e1-a18c-40d992ca06d4",
   "metadata": {},
   "source": [
    "# Delete databases, tables and partitions and data\n",
    "\n",
    "`pydbtools` now has functions to remove databases, database tables, and partitions, plus the underlying data on S3.\n",
    "\n",
    "## Setup\n",
    "\n",
    "First run the following cells to set up the database tables.\n",
    "\n",
    "Import the necessary libraries."
   ]
  },
  {
   "cell_type": "code",
   "execution_count": null,
   "id": "231f5906-d60f-47f5-bf40-e46848e7c7a6",
   "metadata": {},
   "outputs": [],
   "source": [
    "import os\n",
    "import pandas as pd\n",
    "import awswrangler as wr\n",
    "import pydbtools as pydb"
   ]
  },
  {
   "cell_type": "markdown",
   "id": "5c6da254-b79d-495b-8555-b4078c921598",
   "metadata": {},
   "source": [
    "Set up your testing area. \n",
    "\n",
    "**Important:** substitute your own Github username below."
   ]
  },
  {
   "cell_type": "code",
   "execution_count": null,
   "id": "8f375823-a8f3-4bb5-8d6e-2304a48fb50e",
   "metadata": {},
   "outputs": [],
   "source": [
    "# setup your own testing area (set foldername = GH username)\n",
    "foldername = \"mratford\"  # GH username\n",
    "foldername = foldername.lower().replace(\"-\", \"_\")"
   ]
  },
  {
   "cell_type": "code",
   "execution_count": null,
   "id": "c8a1e563-406e-43ba-bc80-fbcff44676c8",
   "metadata": {},
   "outputs": [],
   "source": [
    "bucketname = \"alpha-everyone\"\n",
    "s3_base_path = f\"s3://{bucketname}/{foldername}/\"\n",
    "\n",
    "db_name = f\"aws_example_{foldername}\"\n",
    "source_db_base_path = f\"s3://{bucketname}/{foldername}/source_db/\"\n",
    "\n",
    "# Delete all the s3 files in a given path\n",
    "if wr.s3.list_objects(s3_base_path):\n",
    "    print(\"deleting objs\")\n",
    "    wr.s3.delete_objects(s3_base_path)\n",
    "\n",
    "# Delete the database if it exists\n",
    "df_dbs = wr.catalog.databases(None)\n",
    "if db_name in df_dbs[\"Database\"].to_list():\n",
    "    print(f\"{db_name} found deleting\")\n",
    "    wr.catalog.delete_database(name=db_name)\n",
    "\n",
    "# Setup source database\n",
    "# Create the database\n",
    "wr.catalog.create_database(db_name)\n",
    "\n",
    "# Iterate through the tables in data/ and write them to our db using awswrangler\n",
    "for table_name in [\"department\", \"employees\"]:\n",
    "    df = pd.read_csv(f\"data/{table_name}.csv\")\n",
    "    table_path = os.path.join(source_db_base_path, f\"{table_name}/\")\n",
    "    wr.s3.to_parquet(\n",
    "        df=df,\n",
    "        path=table_path,\n",
    "        index=False,\n",
    "        dataset=True,  # True allows the other params below i.e. overwriting to db.table\n",
    "        database=db_name,\n",
    "        table=table_name,\n",
    "        mode=\"overwrite\",\n",
    "    )\n",
    "\n",
    "# For the sales table partition the data by employee_id and qtr\n",
    "# (reduce the size of the table for legibility)\n",
    "df = pd.read_csv(\"data/sales.csv\").query(\"employee_id < 5\")\n",
    "table_path = os.path.join(source_db_base_path, \"sales\")\n",
    "partition_info = wr.s3.to_parquet(\n",
    "    df=df,\n",
    "    path=table_path,\n",
    "    index=False,\n",
    "    dataset=True,\n",
    "    partition_cols=[\"employee_id\", \"qtr\"],\n",
    "    database=db_name,\n",
    "    table=\"sales\",\n",
    "    mode=\"overwrite\",\n",
    ")"
   ]
  },
  {
   "cell_type": "markdown",
   "id": "dafefed4-6ace-4b47-9e20-66aa79c7043b",
   "metadata": {},
   "source": [
    "## Deleting a table\n",
    "\n",
    "Show the tables in the database."
   ]
  },
  {
   "cell_type": "code",
   "execution_count": null,
   "id": "b242ff37-ec3b-403d-a238-ff947ac6255b",
   "metadata": {},
   "outputs": [],
   "source": [
    "table_info = list(wr.catalog.get_tables(database=db_name))\n",
    "[x[\"Name\"] for x in table_info]"
   ]
  },
  {
   "cell_type": "markdown",
   "id": "687735a5-ed18-4727-aa24-263726ec71c5",
   "metadata": {},
   "source": [
    "Show the data for the `department` table."
   ]
  },
  {
   "cell_type": "code",
   "execution_count": null,
   "id": "bbe44bac-0cd8-40e6-8b85-e58937977b8f",
   "metadata": {},
   "outputs": [],
   "source": [
    "dept_info = next(x for x in table_info if x[\"Name\"] == \"department\")\n",
    "dept_location = dept_info[\"StorageDescriptor\"][\"Location\"]\n",
    "wr.s3.list_objects(dept_location)"
   ]
  },
  {
   "cell_type": "markdown",
   "id": "fd6b1e22-4d25-4ddc-a4e7-c26dd8b827ee",
   "metadata": {},
   "source": [
    "Now delete the `department` table."
   ]
  },
  {
   "cell_type": "code",
   "execution_count": null,
   "id": "0b51ffd5-c51c-4a9f-afd9-e43291cb3bd4",
   "metadata": {},
   "outputs": [],
   "source": [
    "pydb.delete_table_and_data(database=db_name, table=\"department\")"
   ]
  },
  {
   "cell_type": "markdown",
   "id": "f018f246-e82b-4d5e-ae4c-3402d822326f",
   "metadata": {},
   "source": [
    "Check that it's no longer in the database."
   ]
  },
  {
   "cell_type": "code",
   "execution_count": null,
   "id": "88a70fe5-6eaf-48ef-8232-98e21d682f75",
   "metadata": {},
   "outputs": [],
   "source": [
    "table_info = list(wr.catalog.get_tables(database=db_name))\n",
    "[x[\"Name\"] for x in table_info]"
   ]
  },
  {
   "cell_type": "markdown",
   "id": "d9a0b832-ce11-4c85-90c7-94e5fcdaaf91",
   "metadata": {},
   "source": [
    "Check that the data no longer exists."
   ]
  },
  {
   "cell_type": "code",
   "execution_count": null,
   "id": "be12d9b1-263f-4649-ae49-d3945376d266",
   "metadata": {},
   "outputs": [],
   "source": [
    "wr.s3.list_objects(dept_location)"
   ]
  },
  {
   "cell_type": "markdown",
   "id": "18ba2b03-344a-45a5-a679-7b7a0966923f",
   "metadata": {},
   "source": [
    "## Deleting a partition\n",
    "\n",
    "Show the partitions from the `sales` table."
   ]
  },
  {
   "cell_type": "code",
   "execution_count": null,
   "id": "bc7a4a7f-b658-44ec-b922-1c6f4103300e",
   "metadata": {},
   "outputs": [],
   "source": [
    "wr.catalog.get_partitions(database=db_name, table=\"sales\")"
   ]
  },
  {
   "cell_type": "markdown",
   "id": "9dcfe1dd-684d-4a74-beb0-c9a5371c6268",
   "metadata": {},
   "source": [
    "Check the data for one of the partitions."
   ]
  },
  {
   "cell_type": "code",
   "execution_count": null,
   "id": "a76161fc-9444-4047-a2c4-152372090d9d",
   "metadata": {},
   "outputs": [],
   "source": [
    "wr.s3.list_objects(f\"{source_db_base_path}sales/employee_id=1/qtr=4/\")"
   ]
  },
  {
   "cell_type": "markdown",
   "id": "1e7a85b5-4398-47c8-9399-bf15d32acf8f",
   "metadata": {},
   "source": [
    "Use an SQL like query to delete the partition and data for quarter 4."
   ]
  },
  {
   "cell_type": "code",
   "execution_count": null,
   "id": "2fc17523-eba7-46d2-8fe8-94053600aaaa",
   "metadata": {},
   "outputs": [],
   "source": [
    "pydb.delete_partitions_and_data(database=db_name, table=\"sales\", expression=\"qtr = 4\")"
   ]
  },
  {
   "cell_type": "markdown",
   "id": "be3b4e55-ad50-4817-b720-2e1d9536b190",
   "metadata": {},
   "source": [
    "Check that the partition no longer exists."
   ]
  },
  {
   "cell_type": "code",
   "execution_count": null,
   "id": "399c3be6-5fb0-481b-8e15-b42297b3563a",
   "metadata": {},
   "outputs": [],
   "source": [
    "wr.catalog.get_partitions(database=db_name, table=\"sales\")"
   ]
  },
  {
   "cell_type": "markdown",
   "id": "48a65836-0bb1-4a09-a7d5-7a341fe36f29",
   "metadata": {},
   "source": [
    "Check that the data no longer exists."
   ]
  },
  {
   "cell_type": "code",
   "execution_count": null,
   "id": "c2babd0c-2851-4d98-ad8f-1f7081a4cc64",
   "metadata": {},
   "outputs": [],
   "source": [
    "wr.s3.list_objects(f\"{source_db_base_path}sales/employee_id=1/qtr=4/\")"
   ]
  },
  {
   "cell_type": "markdown",
   "id": "574d56ef-cab5-4d37-939f-56bb5bf66aa5",
   "metadata": {},
   "source": [
    "Using a more complex query, delete quarters 1 and 2 for employee 3."
   ]
  },
  {
   "cell_type": "code",
   "execution_count": null,
   "id": "6442cdd7-4e52-4ad8-bf46-7fe2bac733f8",
   "metadata": {},
   "outputs": [],
   "source": [
    "pydb.delete_partitions_and_data(\n",
    "    database=db_name, table=\"sales\", expression=\"employee_id = 3 and qtr < 3\"\n",
    ")\n",
    "wr.catalog.get_partitions(database=db_name, table=\"sales\")"
   ]
  },
  {
   "cell_type": "markdown",
   "id": "ef3c1d5d-0f50-4a9b-957f-cf9d6938f0a2",
   "metadata": {},
   "source": [
    "See [the documentation](https://boto3.amazonaws.com/v1/documentation/api/latest/reference/services/glue.html#Glue.Client.get_partitions) for details on the expression syntax."
   ]
  },
  {
   "cell_type": "markdown",
   "id": "2472c24d-95aa-46f8-9650-da673f4e5a1b",
   "metadata": {},
   "source": [
    "## Deleting a database"
   ]
  },
  {
   "cell_type": "code",
   "execution_count": null,
   "id": "fae1b736-69d8-4e93-8064-998532158cf4",
   "metadata": {},
   "outputs": [],
   "source": [
    "db_name in list(wr.catalog.databases()[\"Database\"])"
   ]
  },
  {
   "cell_type": "code",
   "execution_count": null,
   "id": "a5301983-931a-417e-a825-a9940cda6d93",
   "metadata": {},
   "outputs": [],
   "source": [
    "pydb.delete_database_and_data(db_name)"
   ]
  },
  {
   "cell_type": "code",
   "execution_count": null,
   "id": "05a01662-8f3b-4701-ac12-c197ea74d7d9",
   "metadata": {},
   "outputs": [],
   "source": [
    "db_name in list(wr.catalog.databases()[\"Database\"])"
   ]
  },
  {
   "cell_type": "code",
   "execution_count": null,
   "id": "ceb9611a-15ef-47d5-8f1f-aa4a28204a49",
   "metadata": {},
   "outputs": [],
   "source": [
    "wr.s3.list_objects(source_db_base_path)"
   ]
  },
  {
   "cell_type": "code",
   "execution_count": null,
   "id": "a37074d1-573c-4fe3-803a-c3082a44f6c5",
   "metadata": {},
   "outputs": [],
   "source": [
    "source_db_base_path"
   ]
  },
  {
   "cell_type": "markdown",
   "id": "e0e2cc80-aad8-4d75-b02d-19cc7f1c2b14",
   "metadata": {},
   "source": [
    "## Deleting temporary database tables\n",
    "\n",
    "It might be useful during development to get rid of the temporary database or one of it's tables if something has gone wrong. This can be accomplished by using `__temp__` as the database name in one of the functions above."
   ]
  },
  {
   "cell_type": "code",
   "execution_count": null,
   "id": "6ec73350-12b6-464a-a162-8c5590ffd538",
   "metadata": {},
   "outputs": [],
   "source": [
    "# Setup source database\n",
    "# Create the database\n",
    "wr.catalog.create_database(db_name, exist_ok=True)\n",
    "\n",
    "# Iterate through the tables in data/ and write them to our db using awswrangler\n",
    "for table_name in [\"department\", \"employees\", \"sales\"]:\n",
    "\n",
    "    df = pd.read_csv(f\"data/{table_name}.csv\")\n",
    "    table_path = os.path.join(source_db_base_path, f\"{table_name}/\")\n",
    "    wr.s3.to_parquet(\n",
    "        df=df,\n",
    "        path=table_path,\n",
    "        index=False,\n",
    "        dataset=True,  # True allows the other params below i.e. overwriting to db.table\n",
    "        database=db_name,\n",
    "        table=table_name,\n",
    "        mode=\"overwrite\",\n",
    "    )\n",
    "\n",
    "sql = f\"\"\"\n",
    "SELECT employee_id, sum(sales) as total_sales\n",
    "FROM {db_name}.sales\n",
    "GROUP BY employee_id\n",
    "\"\"\"\n",
    "print(sql)\n",
    "pydb.create_temp_table(sql, table_name=\"total_sales\")"
   ]
  },
  {
   "cell_type": "code",
   "execution_count": null,
   "id": "eccebc70-8e18-402e-88a4-d85ce68a848d",
   "metadata": {},
   "outputs": [],
   "source": [
    "pydb.read_sql_query(\"select * from __temp__.total_sales\")"
   ]
  },
  {
   "cell_type": "code",
   "execution_count": null,
   "id": "a4cd41ce-0eec-4c0b-a02d-f066b00cc8b6",
   "metadata": {},
   "outputs": [],
   "source": [
    "pydb.delete_database_and_data(\"__temp__\")"
   ]
  },
  {
   "cell_type": "code",
   "execution_count": null,
   "id": "21b9a48b-5bd7-4d04-a9c6-2caa625dc0a6",
   "metadata": {},
   "outputs": [],
   "source": [
    "try:\n",
    "    df = pydb.read_sql_query(\"select * from __temp__.total_sales\")\n",
    "    print(\"Error, temporary database not deleted correctly.\")\n",
    "except wr.exceptions.QueryFailed:\n",
    "    print(\"Query failed correctly.\")"
   ]
  },
  {
   "cell_type": "code",
   "execution_count": null,
   "id": "7a539a0e-580b-4cde-892a-ecd9cf931a48",
   "metadata": {},
   "outputs": [],
   "source": []
  }
 ],
 "metadata": {
  "kernelspec": {
   "display_name": "Python, pydbtools",
   "language": "python",
   "name": "pydbtools"
  },
  "language_info": {
   "codemirror_mode": {
    "name": "ipython",
    "version": 3
   },
   "file_extension": ".py",
   "mimetype": "text/x-python",
   "name": "python",
   "nbconvert_exporter": "python",
   "pygments_lexer": "ipython3",
   "version": "3.9.6"
  }
 },
 "nbformat": 4,
 "nbformat_minor": 5
}
