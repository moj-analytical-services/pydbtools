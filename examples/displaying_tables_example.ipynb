{
 "cells": [
  {
   "attachments": {},
   "cell_type": "markdown",
   "metadata": {},
   "source": [
    "# Displaying databases, tables and columns using tables function\n",
    "\n",
    "In this tutorial we are going to use `tables` to explore databases, tables, and columns stored in S3."
   ]
  },
  {
   "cell_type": "code",
   "execution_count": null,
   "metadata": {},
   "outputs": [],
   "source": [
    "import pandas as pd\n",
    "import awswrangler as wr\n",
    "import datetime\n",
    "import pydbtools as pydb"
   ]
  },
  {
   "cell_type": "markdown",
   "metadata": {},
   "source": [
    "The `tables` function calls the aws wrangler function `wrangler.catalog.tables` which has the following paramaters.\n",
    "\n",
    "Parameters:\n",
    "- limit (int, optional) – Max number of tables to be returned. If none is provided, the default value is 100.\n",
    "- catalog_id (str, optional) – The ID of the Data Catalog from which to retrieve Databases. If none is provided, the AWS account ID is used by default.\n",
    "- database (str, optional) – Database name.\n",
    "- transaction_id (str, optional) – The ID of the transaction (i.e. used with GOVERNED tables).\n",
    "- search_text (str, optional) – Select only tables with the given string in table’s properties.\n",
    "- name_contains (str, optional) – Select by a specific string on table name\n",
    "- name_prefix (str, optional) – Select by a specific prefix on table name\n",
    "- name_suffix (str, optional) – Select by a specific suffix on table name\n",
    "- boto3_session (boto3.Session(), optional) – Boto3 Session. The default boto3 session will be used if boto3_session receive None.\n",
    "\n",
    "Returns:\n",
    "Pandas Dataframe filled by formatted infos.\n",
    "\n",
    "https://aws-sdk-pandas.readthedocs.io/en/stable/stubs/awswrangler.catalog.tables.html"
   ]
  },
  {
   "cell_type": "markdown",
   "metadata": {},
   "source": [
    "If called on it's own, `tables()` will return the top 100 tables as a dataframe without any filters."
   ]
  },
  {
   "cell_type": "code",
   "execution_count": null,
   "metadata": {},
   "outputs": [],
   "source": [
    "pydb.tables()"
   ]
  },
  {
   "cell_type": "markdown",
   "metadata": {},
   "source": [
    "Most of the time, we are interested in the tables of a specific database. This can be specified using the database argument. If the database has a large number of tables, the limit will also need to be adjusted. If `limit=None`, there is no limit. The other arguments which can be used are described above."
   ]
  },
  {
   "cell_type": "code",
   "execution_count": null,
   "metadata": {},
   "outputs": [],
   "source": [
    "pydb.tables(database=\"alpha_ccs_temp\", limit=None)"
   ]
  }
 ],
 "metadata": {
  "kernelspec": {
   "display_name": "Python 3 (ipykernel)",
   "language": "python",
   "name": "python3"
  },
  "language_info": {
   "codemirror_mode": {
    "name": "ipython",
    "version": 3
   },
   "file_extension": ".py",
   "mimetype": "text/x-python",
   "name": "python",
   "nbconvert_exporter": "python",
   "pygments_lexer": "ipython3",
   "version": "3.8.16"
  },
  "vscode": {
   "interpreter": {
    "hash": "662e033bdd9299eecc3374b4142b8588ac448a6c4ea1564a5ae8cc48698cecef"
   }
  }
 },
 "nbformat": 4,
 "nbformat_minor": 4
}
