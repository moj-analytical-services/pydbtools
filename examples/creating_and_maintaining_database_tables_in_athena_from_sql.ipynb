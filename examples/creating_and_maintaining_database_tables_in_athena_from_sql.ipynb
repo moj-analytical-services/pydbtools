{
 "cells": [
  {
   "cell_type": "markdown",
   "id": "native-house",
   "metadata": {},
   "source": [
    "# Creating and Maintaining Database Tables in Athena from SQL files\n",
    "\n",
    "In this tutorial we are going to use Athena SQL queries (via pydbtools) to create a new database from and existing databases in Athena.\n",
    "\n",
    "First we need to create a database of tables to act as our existing database. But then we will create a new database that holds tables that are derived from the original.\n",
    "\n",
    "Our source database will have the test data `employees.csv`, `sales.csv` and `department.csv` (all in the `data/` folder)\n",
    "\n",
    "Useful links:\n",
    "- https://docs.aws.amazon.com/athena/latest/ug/ctas-examples.html\n"
   ]
  },
  {
   "cell_type": "markdown",
   "id": "essential-secret",
   "metadata": {},
   "source": [
    "## Setup\n",
    "\n",
    "Just run this script to create the source database so we can use it for our example."
   ]
  },
  {
   "cell_type": "code",
   "execution_count": 1,
   "id": "french-percentage",
   "metadata": {},
   "outputs": [],
   "source": [
    "import os\n",
    "import pandas as pd\n",
    "import awswrangler as wr\n",
    "import pydbtools as pydb"
   ]
  },
  {
   "cell_type": "code",
   "execution_count": 2,
   "id": "driven-meaning",
   "metadata": {},
   "outputs": [],
   "source": [
    "# setup your own testing area (set foldername = GH username)\n",
    "foldername = \"mratford\"  # GH username\n",
    "foldername = foldername.lower().replace(\"-\", \"_\")"
   ]
  },
  {
   "cell_type": "code",
   "execution_count": 3,
   "id": "retired-scene",
   "metadata": {},
   "outputs": [],
   "source": [
    "bucketname = \"alpha-everyone\"\n",
    "s3_base_path = f\"s3://{bucketname}/{foldername}/\"\n",
    "\n",
    "source_db_name = f\"source_db_{foldername}\"\n",
    "source_db_base_path = f\"s3://{bucketname}/{foldername}/source_db/\"\n",
    "\n",
    "pydb.delete_database_and_data(source_db_name)\n",
    "\n",
    "# Setup source database\n",
    "# Create the database\n",
    "pydb.create_database(source_db_name)\n",
    "\n",
    "# Iterate through the tables in data/ and write them to our db using file_to_table\n",
    "for table_name in [\"department\", \"employees\", \"sales\"]:\n",
    "    table_path = pydb.s3_path_join(source_db_base_path, f\"{table_name}/\")\n",
    "    pydb.file_to_table(\n",
    "        path=f\"data/{table_name}.csv\",\n",
    "        database=source_db_name,\n",
    "        table=table_name,\n",
    "        location=table_path,\n",
    "    )"
   ]
  },
  {
   "cell_type": "markdown",
   "id": "preliminary-henry",
   "metadata": {},
   "source": [
    "## Now for the actual tutorial\n",
    "\n",
    "We are going to run all of our queries using SQL. You may have seen that I've used awswrangler to create the database above (which is fine to do). However this part of the tutorial will all be in SQL so you can run this from anything (i.e. R, Athena workbench, anything that can send queries to Athena).\n",
    "\n",
    "### Step 1. create the new database\n",
    "\n",
    "We are going to create a new database which will generate derived tables from our source database. For ease we are going to create the database location in the same parent folder as our source database. However, in reality you probably want to create your own bucket for the database and tables to sit in so that you can control who has access to your database.\n",
    "\n",
    "> **Note:** We use a lot of f-strings here to parameterise our SQL queries so for ease and understanding we are going to print out each SQL query each time just so you can see what you are actually running on athena. "
   ]
  },
  {
   "cell_type": "code",
   "execution_count": 4,
   "id": "selected-fisher",
   "metadata": {},
   "outputs": [],
   "source": [
    "new_db_name = f\"new_db_{foldername}\"\n",
    "new_db_base_path = f\"s3://{bucketname}/{foldername}/new_db/\"\n",
    "\n",
    "sql = f\"\"\"\n",
    "CREATE DATABASE IF NOT EXISTS {new_db_name}\n",
    "COMMENT 'example or running queries and insert to'\n",
    "LOCATION '{new_db_base_path}';\n",
    "\"\"\""
   ]
  },
  {
   "cell_type": "markdown",
   "id": "apart-devil",
   "metadata": {},
   "source": [
    "### Step 2. Run a CTAS query to create your new derived table in your new database\n",
    "\n",
    "We use a CTAS query as it both generates the output data into S3 but also creates the schema of the new table"
   ]
  },
  {
   "cell_type": "code",
   "execution_count": 5,
   "id": "curious-consumer",
   "metadata": {},
   "outputs": [],
   "source": [
    "# Note our table s3 path is saved in the following format:\n",
    "# s3://<bucket>/<path to database folder>/<table_name>/\n",
    "# You don't have to do this but it is strongly recommended to make it easier\n",
    "# to map your schemas to your data.\n",
    "\n",
    "sales_report_s3_path = os.path.join(new_db_base_path, \"sales_report/\")\n",
    "\n",
    "sql += f\"\"\"\n",
    "CREATE TABLE {new_db_name}.sales_report WITH\n",
    "(\n",
    "    external_location='{sales_report_s3_path}'\n",
    ") AS\n",
    "SELECT qtr as sales_quarter, sum(sales) AS total_sales\n",
    "FROM {source_db_name}.sales\n",
    "WHERE qtr IN (1,2)\n",
    "GROUP BY qtr;\n",
    "\"\"\""
   ]
  },
  {
   "cell_type": "markdown",
   "id": "frozen-vector",
   "metadata": {},
   "source": [
    "### Step 3. Use An insert into query to add new data into that table\n",
    "\n",
    "We use an Insert INTO query here as we already created the schema in the previous CTAS query"
   ]
  },
  {
   "cell_type": "code",
   "execution_count": 6,
   "id": "absent-locking",
   "metadata": {},
   "outputs": [],
   "source": [
    "# Let's say we want to add more data into our table\n",
    "\n",
    "sql += f\"\"\"\n",
    "INSERT INTO {new_db_name}.sales_report\n",
    "SELECT qtr as sales_quarter, sum(sales) AS total_sales\n",
    "FROM {source_db_name}.sales\n",
    "WHERE qtr IN (3,4)\n",
    "GROUP BY qtr;\n",
    "\"\"\""
   ]
  },
  {
   "cell_type": "markdown",
   "id": "be1b5b8c-3551-49ff-a46c-e778073f263e",
   "metadata": {},
   "source": [
    "Add SQL to create a quarterly sales report."
   ]
  },
  {
   "cell_type": "code",
   "execution_count": 7,
   "id": "dated-zambia",
   "metadata": {},
   "outputs": [],
   "source": [
    "sql += f\"\"\"\n",
    "SELECT * FROM {new_db_name}.sales_report;\n",
    "\"\"\""
   ]
  },
  {
   "cell_type": "markdown",
   "id": "cellular-france",
   "metadata": {},
   "source": [
    "### Step 4. Create another new table and insert new data into it this time using partitions\n",
    "\n",
    "We are going to do the same but this time partition the data and write new data into a new partition. Let's parition the data based on something like when the report was ran.\n",
    "\n",
    "> **Note:** that columns that are partitions should always be the last columns in your table."
   ]
  },
  {
   "cell_type": "code",
   "execution_count": 8,
   "id": "charming-camping",
   "metadata": {},
   "outputs": [],
   "source": [
    "sales_report_s3_path = os.path.join(new_db_base_path, \"daily_sales_report/\")\n",
    "\n",
    "sql += f\"\"\"\n",
    "CREATE TABLE {new_db_name}.daily_sales_report WITH\n",
    "(\n",
    "    external_location='{sales_report_s3_path}',\n",
    "    partitioned_by = ARRAY['report_date']\n",
    ") AS\n",
    "SELECT qtr as sales_quarter, sum(sales) AS total_sales,\n",
    "date '2021-01-01' AS report_date\n",
    "FROM {source_db_name}.sales\n",
    "GROUP BY qtr, date '2021-01-01';\n",
    "\"\"\""
   ]
  },
  {
   "cell_type": "code",
   "execution_count": 9,
   "id": "ecological-occurrence",
   "metadata": {},
   "outputs": [],
   "source": [
    "# Then assume we run the report the next day pretending our source database is updated every day\n",
    "sales_report_s3_path = os.path.join(new_db_base_path, \"daily_sales_report/\")\n",
    "\n",
    "sql += f\"\"\"\n",
    "INSERT INTO {new_db_name}.daily_sales_report\n",
    "SELECT qtr as sales_quarter, sum(sales) AS total_sales,\n",
    "date '2021-01-02' AS report_date\n",
    "FROM {source_db_name}.sales\n",
    "GROUP BY qtr, date '2021-01-02';\n",
    "\"\"\""
   ]
  },
  {
   "cell_type": "markdown",
   "id": "a2d09b61-c150-4811-b5da-726a25001c39",
   "metadata": {},
   "source": [
    "Let's look at the entire SQL statement."
   ]
  },
  {
   "cell_type": "code",
   "execution_count": 10,
   "id": "ff9c39fb-6ac2-44ce-8c29-e77b328a230d",
   "metadata": {},
   "outputs": [
    {
     "name": "stdout",
     "output_type": "stream",
     "text": [
      "\n",
      "CREATE DATABASE IF NOT EXISTS new_db_mratford\n",
      "COMMENT 'example or running queries and insert to'\n",
      "LOCATION 's3://alpha-everyone/mratford/new_db/';\n",
      "\n",
      "CREATE TABLE new_db_mratford.sales_report WITH\n",
      "(\n",
      "    external_location='s3://alpha-everyone/mratford/new_db/sales_report/'\n",
      ") AS\n",
      "SELECT qtr as sales_quarter, sum(sales) AS total_sales\n",
      "FROM source_db_mratford.sales\n",
      "WHERE qtr IN (1,2)\n",
      "GROUP BY qtr;\n",
      "\n",
      "INSERT INTO new_db_mratford.sales_report\n",
      "SELECT qtr as sales_quarter, sum(sales) AS total_sales\n",
      "FROM source_db_mratford.sales\n",
      "WHERE qtr IN (3,4)\n",
      "GROUP BY qtr;\n",
      "\n",
      "SELECT * FROM new_db_mratford.sales_report;\n",
      "\n",
      "CREATE TABLE new_db_mratford.daily_sales_report WITH\n",
      "(\n",
      "    external_location='s3://alpha-everyone/mratford/new_db/daily_sales_report/',\n",
      "    partitioned_by = ARRAY['report_date']\n",
      ") AS\n",
      "SELECT qtr as sales_quarter, sum(sales) AS total_sales,\n",
      "date '2021-01-01' AS report_date\n",
      "FROM source_db_mratford.sales\n",
      "GROUP BY qtr, date '2021-01-01';\n",
      "\n",
      "INSERT INTO new_db_mratford.daily_sales_report\n",
      "SELECT qtr as sales_quarter, sum(sales) AS total_sales,\n",
      "date '2021-01-02' AS report_date\n",
      "FROM source_db_mratford.sales\n",
      "GROUP BY qtr, date '2021-01-02';\n",
      "\n"
     ]
    }
   ],
   "source": [
    "print(sql)"
   ]
  },
  {
   "cell_type": "code",
   "execution_count": 11,
   "id": "38252f9b-2efe-4668-b556-fbed9cd15aaf",
   "metadata": {},
   "outputs": [
    {
     "data": {
      "text/html": [
       "<div>\n",
       "<style scoped>\n",
       "    .dataframe tbody tr th:only-of-type {\n",
       "        vertical-align: middle;\n",
       "    }\n",
       "\n",
       "    .dataframe tbody tr th {\n",
       "        vertical-align: top;\n",
       "    }\n",
       "\n",
       "    .dataframe thead th {\n",
       "        text-align: right;\n",
       "    }\n",
       "</style>\n",
       "<table border=\"1\" class=\"dataframe\">\n",
       "  <thead>\n",
       "    <tr style=\"text-align: right;\">\n",
       "      <th></th>\n",
       "      <th>sales_quarter</th>\n",
       "      <th>total_sales</th>\n",
       "    </tr>\n",
       "  </thead>\n",
       "  <tbody>\n",
       "    <tr>\n",
       "      <th>0</th>\n",
       "      <td>3</td>\n",
       "      <td>26419.31</td>\n",
       "    </tr>\n",
       "    <tr>\n",
       "      <th>1</th>\n",
       "      <td>4</td>\n",
       "      <td>27558.68</td>\n",
       "    </tr>\n",
       "    <tr>\n",
       "      <th>2</th>\n",
       "      <td>2</td>\n",
       "      <td>30696.60</td>\n",
       "    </tr>\n",
       "    <tr>\n",
       "      <th>3</th>\n",
       "      <td>1</td>\n",
       "      <td>28167.78</td>\n",
       "    </tr>\n",
       "  </tbody>\n",
       "</table>\n",
       "</div>"
      ],
      "text/plain": [
       "   sales_quarter  total_sales\n",
       "0              3     26419.31\n",
       "1              4     27558.68\n",
       "2              2     30696.60\n",
       "3              1     28167.78"
      ]
     },
     "execution_count": 11,
     "metadata": {},
     "output_type": "execute_result"
    }
   ],
   "source": [
    "sales_report = pydb.read_sql_queries(sql)\n",
    "sales_report"
   ]
  },
  {
   "cell_type": "markdown",
   "id": "57ebeb1f-fdd5-475a-b076-33bdf11fb823",
   "metadata": {},
   "source": [
    "Use `read_sql_queries_gen`, which returns an iterator of pandas dataframes, for more than one `SELECT` query."
   ]
  },
  {
   "cell_type": "code",
   "execution_count": 12,
   "id": "ac9376ed-4859-477d-ac14-303af3e2e318",
   "metadata": {},
   "outputs": [
    {
     "name": "stdout",
     "output_type": "stream",
     "text": [
      "\n",
      "CREATE DATABASE IF NOT EXISTS new_db_mratford\n",
      "COMMENT 'example or running queries and insert to'\n",
      "LOCATION 's3://alpha-everyone/mratford/new_db/';\n",
      "\n",
      "CREATE TABLE new_db_mratford.sales_report WITH\n",
      "(\n",
      "    external_location='s3://alpha-everyone/mratford/new_db/sales_report/'\n",
      ") AS\n",
      "SELECT qtr as sales_quarter, sum(sales) AS total_sales\n",
      "FROM source_db_mratford.sales\n",
      "WHERE qtr IN (1,2)\n",
      "GROUP BY qtr;\n",
      "\n",
      "INSERT INTO new_db_mratford.sales_report\n",
      "SELECT qtr as sales_quarter, sum(sales) AS total_sales\n",
      "FROM source_db_mratford.sales\n",
      "WHERE qtr IN (3,4)\n",
      "GROUP BY qtr;\n",
      "\n",
      "SELECT * FROM new_db_mratford.sales_report;\n",
      "\n",
      "CREATE TABLE new_db_mratford.daily_sales_report WITH\n",
      "(\n",
      "    external_location='s3://alpha-everyone/mratford/new_db/daily_sales_report/',\n",
      "    partitioned_by = ARRAY['report_date']\n",
      ") AS\n",
      "SELECT qtr as sales_quarter, sum(sales) AS total_sales,\n",
      "date '2021-01-01' AS report_date\n",
      "FROM source_db_mratford.sales\n",
      "GROUP BY qtr, date '2021-01-01';\n",
      "\n",
      "INSERT INTO new_db_mratford.daily_sales_report\n",
      "SELECT qtr as sales_quarter, sum(sales) AS total_sales,\n",
      "date '2021-01-02' AS report_date\n",
      "FROM source_db_mratford.sales\n",
      "GROUP BY qtr, date '2021-01-02';\n",
      "\n",
      "SELECT * FROM new_db_mratford.daily_sales_report;\n",
      "\n"
     ]
    }
   ],
   "source": [
    "sql += f\"\"\"\n",
    "SELECT * FROM {new_db_name}.daily_sales_report;\n",
    "\"\"\"\n",
    "print(sql)"
   ]
  },
  {
   "cell_type": "code",
   "execution_count": 13,
   "id": "63a9d222-fe3e-4676-9fba-0a0a931de7fb",
   "metadata": {},
   "outputs": [
    {
     "data": {
      "text/html": [
       "<div>\n",
       "<style scoped>\n",
       "    .dataframe tbody tr th:only-of-type {\n",
       "        vertical-align: middle;\n",
       "    }\n",
       "\n",
       "    .dataframe tbody tr th {\n",
       "        vertical-align: top;\n",
       "    }\n",
       "\n",
       "    .dataframe thead th {\n",
       "        text-align: right;\n",
       "    }\n",
       "</style>\n",
       "<table border=\"1\" class=\"dataframe\">\n",
       "  <thead>\n",
       "    <tr style=\"text-align: right;\">\n",
       "      <th></th>\n",
       "      <th>sales_quarter</th>\n",
       "      <th>total_sales</th>\n",
       "    </tr>\n",
       "  </thead>\n",
       "  <tbody>\n",
       "    <tr>\n",
       "      <th>0</th>\n",
       "      <td>3</td>\n",
       "      <td>26419.31</td>\n",
       "    </tr>\n",
       "    <tr>\n",
       "      <th>1</th>\n",
       "      <td>4</td>\n",
       "      <td>27558.68</td>\n",
       "    </tr>\n",
       "    <tr>\n",
       "      <th>2</th>\n",
       "      <td>2</td>\n",
       "      <td>30696.60</td>\n",
       "    </tr>\n",
       "    <tr>\n",
       "      <th>3</th>\n",
       "      <td>1</td>\n",
       "      <td>28167.78</td>\n",
       "    </tr>\n",
       "  </tbody>\n",
       "</table>\n",
       "</div>"
      ],
      "text/plain": [
       "   sales_quarter  total_sales\n",
       "0              3     26419.31\n",
       "1              4     27558.68\n",
       "2              2     30696.60\n",
       "3              1     28167.78"
      ]
     },
     "execution_count": 13,
     "metadata": {},
     "output_type": "execute_result"
    }
   ],
   "source": [
    "pydb.delete_database_and_data(new_db_name)\n",
    "df_g = pydb.read_sql_queries_gen(sql)\n",
    "sales_report = next(df_g)\n",
    "sales_report"
   ]
  },
  {
   "cell_type": "code",
   "execution_count": 14,
   "id": "48fbe628-62b9-4626-9ae8-74556a6ded5d",
   "metadata": {},
   "outputs": [
    {
     "data": {
      "text/html": [
       "<div>\n",
       "<style scoped>\n",
       "    .dataframe tbody tr th:only-of-type {\n",
       "        vertical-align: middle;\n",
       "    }\n",
       "\n",
       "    .dataframe tbody tr th {\n",
       "        vertical-align: top;\n",
       "    }\n",
       "\n",
       "    .dataframe thead th {\n",
       "        text-align: right;\n",
       "    }\n",
       "</style>\n",
       "<table border=\"1\" class=\"dataframe\">\n",
       "  <thead>\n",
       "    <tr style=\"text-align: right;\">\n",
       "      <th></th>\n",
       "      <th>sales_quarter</th>\n",
       "      <th>total_sales</th>\n",
       "      <th>report_date</th>\n",
       "    </tr>\n",
       "  </thead>\n",
       "  <tbody>\n",
       "    <tr>\n",
       "      <th>0</th>\n",
       "      <td>1</td>\n",
       "      <td>28167.78</td>\n",
       "      <td>2021-01-02</td>\n",
       "    </tr>\n",
       "    <tr>\n",
       "      <th>1</th>\n",
       "      <td>3</td>\n",
       "      <td>26419.31</td>\n",
       "      <td>2021-01-02</td>\n",
       "    </tr>\n",
       "    <tr>\n",
       "      <th>2</th>\n",
       "      <td>4</td>\n",
       "      <td>27558.68</td>\n",
       "      <td>2021-01-02</td>\n",
       "    </tr>\n",
       "    <tr>\n",
       "      <th>3</th>\n",
       "      <td>2</td>\n",
       "      <td>30696.60</td>\n",
       "      <td>2021-01-02</td>\n",
       "    </tr>\n",
       "    <tr>\n",
       "      <th>4</th>\n",
       "      <td>2</td>\n",
       "      <td>30696.60</td>\n",
       "      <td>2021-01-01</td>\n",
       "    </tr>\n",
       "    <tr>\n",
       "      <th>5</th>\n",
       "      <td>1</td>\n",
       "      <td>28167.78</td>\n",
       "      <td>2021-01-01</td>\n",
       "    </tr>\n",
       "    <tr>\n",
       "      <th>6</th>\n",
       "      <td>3</td>\n",
       "      <td>26419.31</td>\n",
       "      <td>2021-01-01</td>\n",
       "    </tr>\n",
       "    <tr>\n",
       "      <th>7</th>\n",
       "      <td>4</td>\n",
       "      <td>27558.68</td>\n",
       "      <td>2021-01-01</td>\n",
       "    </tr>\n",
       "  </tbody>\n",
       "</table>\n",
       "</div>"
      ],
      "text/plain": [
       "   sales_quarter  total_sales report_date\n",
       "0              1     28167.78  2021-01-02\n",
       "1              3     26419.31  2021-01-02\n",
       "2              4     27558.68  2021-01-02\n",
       "3              2     30696.60  2021-01-02\n",
       "4              2     30696.60  2021-01-01\n",
       "5              1     28167.78  2021-01-01\n",
       "6              3     26419.31  2021-01-01\n",
       "7              4     27558.68  2021-01-01"
      ]
     },
     "execution_count": 14,
     "metadata": {},
     "output_type": "execute_result"
    }
   ],
   "source": [
    "daily_sales_report = next(df_g)\n",
    "daily_sales_report"
   ]
  },
  {
   "cell_type": "code",
   "execution_count": 15,
   "id": "presidential-stream",
   "metadata": {},
   "outputs": [
    {
     "data": {
      "text/plain": [
       "True"
      ]
     },
     "execution_count": 15,
     "metadata": {},
     "output_type": "execute_result"
    }
   ],
   "source": [
    "# Clean up\n",
    "pydb.delete_database_and_data(new_db_name)"
   ]
  },
  {
   "cell_type": "code",
   "execution_count": null,
   "id": "8d5d2ba2-4379-4450-9bab-2008a8eed194",
   "metadata": {},
   "outputs": [],
   "source": []
  }
 ],
 "metadata": {
  "kernelspec": {
   "display_name": "pydbtools",
   "language": "python",
   "name": "pydbtools"
  },
  "language_info": {
   "codemirror_mode": {
    "name": "ipython",
    "version": 3
   },
   "file_extension": ".py",
   "mimetype": "text/x-python",
   "name": "python",
   "nbconvert_exporter": "python",
   "pygments_lexer": "ipython3",
   "version": "3.9.6"
  }
 },
 "nbformat": 4,
 "nbformat_minor": 5
}
